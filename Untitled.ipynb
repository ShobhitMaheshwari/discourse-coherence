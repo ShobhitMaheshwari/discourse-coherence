{
 "cells": [
  {
   "cell_type": "code",
   "execution_count": 1,
   "metadata": {},
   "outputs": [
    {
     "name": "stdout",
     "output_type": "stream",
     "text": [
      "My first journal hey guys, today I went to practice as usual in the morning.\n",
      "[('My', 'PRP$'), ('first', 'JJ'), ('journal', 'NN'), ('hey', 'NN'), ('guys', 'NNS'), (',', ','), ('today', 'NN'), ('I', 'PRP'), ('went', 'VBD'), ('to', 'TO'), ('practice', 'NN'), ('as', 'RB'), ('usual', 'JJ'), ('in', 'IN'), ('the', 'DT'), ('morning', 'NN'), ('.', '.')]\n",
      "I thought it was ok except for the whole breathing once the whole way to the other side thing.\n",
      "[('I', 'PRP'), ('thought', 'VBD'), ('it', 'PRP'), ('was', 'VBD'), ('ok', 'JJ'), ('except', 'IN'), ('for', 'IN'), ('the', 'DT'), ('whole', 'JJ'), ('breathing', 'NN'), ('once', 'IN'), ('the', 'DT'), ('whole', 'JJ'), ('way', 'NN'), ('to', 'TO'), ('the', 'DT'), ('other', 'JJ'), ('side', 'JJ'), ('thing', 'NN'), ('.', '.')]\n",
      "I didnt like that part too much.\n",
      "[('I', 'PRP'), ('didnt', 'VBP'), ('like', 'IN'), ('that', 'DT'), ('part', 'NN'), ('too', 'RB'), ('much', 'JJ'), ('.', '.')]\n",
      "After that I went to school and I was dressed u for nerd day.\n",
      "[('After', 'IN'), ('that', 'DT'), ('I', 'PRP'), ('went', 'VBD'), ('to', 'TO'), ('school', 'NN'), ('and', 'CC'), ('I', 'PRP'), ('was', 'VBD'), ('dressed', 'VBN'), ('u', 'NN'), ('for', 'IN'), ('nerd', 'JJ'), ('day', 'NN'), ('.', '.')]\n",
      "I didnt feel too nerdy though since I just through on whatever I could find haha.\n",
      "[('I', 'PRP'), ('didnt', 'VBP'), ('feel', 'VB'), ('too', 'RB'), ('nerdy', 'JJ'), ('though', 'IN'), ('since', 'IN'), ('I', 'PRP'), ('just', 'RB'), ('through', 'IN'), ('on', 'IN'), ('whatever', 'WDT'), ('I', 'PRP'), ('could', 'MD'), ('find', 'VB'), ('haha', 'NN'), ('.', '.')]\n",
      "But that is our little secret.\n",
      "[('But', 'CC'), ('that', 'DT'), ('is', 'VBZ'), ('our', 'PRP$'), ('little', 'JJ'), ('secret', 'JJ'), ('.', '.')]\n",
      "Annie was really dressed up for it though.\n",
      "[('Annie', 'NNP'), ('was', 'VBD'), ('really', 'RB'), ('dressed', 'VBN'), ('up', 'RP'), ('for', 'IN'), ('it', 'PRP'), ('though', 'IN'), ('.', '.')]\n",
      "She could really pass as a nerd.\n",
      "[('She', 'PRP'), ('could', 'MD'), ('really', 'RB'), ('pass', 'VB'), ('as', 'IN'), ('a', 'DT'), ('nerd', 'NN'), ('.', '.')]\n",
      "And I did tell her that so its not like I am saying that behind her back.\n",
      "[('And', 'CC'), ('I', 'PRP'), ('did', 'VBD'), ('tell', 'VB'), ('her', 'PRP$'), ('that', 'WDT'), ('so', 'RB'), ('its', 'PRP$'), ('not', 'RB'), ('like', 'IN'), ('I', 'PRP'), ('am', 'VBP'), ('saying', 'VBG'), ('that', 'IN'), ('behind', 'IN'), ('her', 'PRP$'), ('back', 'NN'), ('.', '.')]\n",
      "Sarah wasnt here today I dont know why.\n",
      "[('Sarah', 'NNP'), ('wasnt', 'NN'), ('here', 'RB'), ('today', 'NN'), ('I', 'PRP'), ('dont', 'VBP'), ('know', 'JJ'), ('why', 'WRB'), ('.', '.')]\n",
      "I sent her a comment but I havent checked if she replied back yet because I am too lazy.\n",
      "[('I', 'PRP'), ('sent', 'VBD'), ('her', 'PRP'), ('a', 'DT'), ('comment', 'NN'), ('but', 'CC'), ('I', 'PRP'), ('havent', 'VBP'), ('checked', 'VBN'), ('if', 'IN'), ('she', 'PRP'), ('replied', 'VBD'), ('back', 'RB'), ('yet', 'RB'), ('because', 'IN'), ('I', 'PRP'), ('am', 'VBP'), ('too', 'RB'), ('lazy', 'JJ'), ('.', '.')]\n",
      "If u are really interested in my life than you will find out tomorrow why she wasnt at school.\n",
      "[('If', 'IN'), ('u', 'JJ'), ('are', 'VBP'), ('really', 'RB'), ('interested', 'JJ'), ('in', 'IN'), ('my', 'PRP$'), ('life', 'NN'), ('than', 'IN'), ('you', 'PRP'), ('will', 'MD'), ('find', 'VB'), ('out', 'RP'), ('tomorrow', 'NN'), ('why', 'WRB'), ('she', 'PRP'), ('wasnt', 'VBD'), ('at', 'IN'), ('school', 'NN'), ('.', '.')]\n",
      "I hope you dont mind that I am using you in my journal Sarah.\n",
      "[('I', 'PRP'), ('hope', 'VBP'), ('you', 'PRP'), ('dont', 'VBP'), ('mind', 'IN'), ('that', 'DT'), ('I', 'PRP'), ('am', 'VBP'), ('using', 'VBG'), ('you', 'PRP'), ('in', 'IN'), ('my', 'PRP$'), ('journal', 'NN'), ('Sarah', 'NNP'), ('.', '.')]\n",
      "I am in the habit of typing u instead of you so that is why I have all my u 's underlined because I am trying to stop.\n",
      "[('I', 'PRP'), ('am', 'VBP'), ('in', 'IN'), ('the', 'DT'), ('habit', 'NN'), ('of', 'IN'), ('typing', 'VBG'), ('u', 'JJ'), ('instead', 'RB'), ('of', 'IN'), ('you', 'PRP'), ('so', 'VBP'), ('that', 'DT'), ('is', 'VBZ'), ('why', 'WRB'), ('I', 'PRP'), ('have', 'VBP'), ('all', 'DT'), ('my', 'PRP$'), ('u', 'NN'), (\"'s\", 'POS'), ('underlined', 'JJ'), ('because', 'IN'), ('I', 'PRP'), ('am', 'VBP'), ('trying', 'VBG'), ('to', 'TO'), ('stop', 'VB'), ('.', '.')]\n",
      "I want my journal's to be neat and nice.\n",
      "[('I', 'PRP'), ('want', 'VBP'), ('my', 'PRP$'), ('journal', 'NN'), (\"'s\", 'POS'), ('to', 'TO'), ('be', 'VB'), ('neat', 'JJ'), ('and', 'CC'), ('nice', 'JJ'), ('.', '.')]\n",
      "Ok well anyway today was fun, sort of.\n",
      "[('Ok', 'RB'), ('well', 'RB'), ('anyway', 'RB'), ('today', 'NN'), ('was', 'VBD'), ('fun', 'NN'), (',', ','), ('sort', 'NN'), ('of', 'IN'), ('.', '.')]\n",
      "Ok I am lying it was acctually pretty boring.\n",
      "[('Ok', 'NN'), ('I', 'PRP'), ('am', 'VBP'), ('lying', 'VBG'), ('it', 'PRP'), ('was', 'VBD'), ('acctually', 'RB'), ('pretty', 'JJ'), ('boring', 'NN'), ('.', '.')]\n",
      "I hate when school is like that.\n",
      "[('I', 'PRP'), ('hate', 'VBP'), ('when', 'WRB'), ('school', 'NN'), ('is', 'VBZ'), ('like', 'IN'), ('that', 'DT'), ('.', '.')]\n",
      "Like today felt like Wednesday but I find out its only Tuesday and than the week feels like it is going by so slow.\n",
      "[('Like', 'IN'), ('today', 'NN'), ('felt', 'VBP'), ('like', 'IN'), ('Wednesday', 'NNP'), ('but', 'CC'), ('I', 'PRP'), ('find', 'VBP'), ('out', 'RP'), ('its', 'PRP$'), ('only', 'JJ'), ('Tuesday', 'NNP'), ('and', 'CC'), ('than', 'IN'), ('the', 'DT'), ('week', 'NN'), ('feels', 'NNS'), ('like', 'IN'), ('it', 'PRP'), ('is', 'VBZ'), ('going', 'VBG'), ('by', 'IN'), ('so', 'RB'), ('slow', 'JJ'), ('.', '.')]\n",
      "I have a meet this Saturday but I dont know if I am going because the coach hasnt told me and I dont really want to ask.\n",
      "[('I', 'PRP'), ('have', 'VBP'), ('a', 'DT'), ('meet', 'NN'), ('this', 'DT'), ('Saturday', 'NNP'), ('but', 'CC'), ('I', 'PRP'), ('dont', 'VBP'), ('know', 'VBP'), ('if', 'IN'), ('I', 'PRP'), ('am', 'VBP'), ('going', 'VBG'), ('because', 'IN'), ('the', 'DT'), ('coach', 'NN'), ('hasnt', 'NN'), ('told', 'VBD'), ('me', 'PRP'), ('and', 'CC'), ('I', 'PRP'), ('dont', 'VBP'), ('really', 'RB'), ('want', 'VBP'), ('to', 'TO'), ('ask', 'VB'), ('.', '.')]\n",
      "But I do want to go to the swim meet because what is the point of being on the swim team if I cant go to any meets.\n",
      "[('But', 'CC'), ('I', 'PRP'), ('do', 'VBP'), ('want', 'VB'), ('to', 'TO'), ('go', 'VB'), ('to', 'TO'), ('the', 'DT'), ('swim', 'NN'), ('meet', 'NN'), ('because', 'IN'), ('what', 'WP'), ('is', 'VBZ'), ('the', 'DT'), ('point', 'NN'), ('of', 'IN'), ('being', 'VBG'), ('on', 'IN'), ('the', 'DT'), ('swim', 'NN'), ('team', 'NN'), ('if', 'IN'), ('I', 'PRP'), ('cant', 'VBP'), ('go', 'VB'), ('to', 'TO'), ('any', 'DT'), ('meets', 'NNS'), ('.', '.')]\n",
      "Ok well this is the end of my first journal.\n",
      "[('Ok', 'RB'), ('well', 'RB'), ('this', 'DT'), ('is', 'VBZ'), ('the', 'DT'), ('end', 'NN'), ('of', 'IN'), ('my', 'PRP$'), ('first', 'JJ'), ('journal', 'NN'), ('.', '.')]\n",
      "Bye BYE!\n",
      "[('Bye', 'NNP'), ('BYE', 'NNP'), ('!', '.')]\n",
      "Talia\n",
      "[('Talia', 'NN')]\n"
     ]
    }
   ],
   "source": [
    "import pandas\n",
    "import MySQLdb\n",
    "import nltk\n",
    "from nltk.tag.perceptron import PerceptronTagger\n",
    "tagger = PerceptronTagger()\n",
    "\n",
    "#sql='select * from post join post_clean_content where post_clean_content.post_id = post.post_id limit 0,100' #1431071 rows × 14 columns\n",
    "sql='select post_clean_content.content from post_clean_content limit 0,1'\n",
    "#con = sqlite3.connect(\"blogs\")\n",
    "db = MySQLdb.connect(host=\"localhost\", user=\"query\", passwd=\"1234\", db=\"blogs\")\n",
    "df = pandas.read_sql_query(sql, db, index_col=None, coerce_float=True, params=None, parse_dates=None, chunksize=None)\n",
    "\n",
    "for index, row in df.iterrows():\n",
    "    sent_text = nltk.sent_tokenize(row['content'])\n",
    "    for sentence in sent_text:\n",
    "        tokenized_text = nltk.word_tokenize(sentence)\n",
    "        print(tagger.tag(tokenized_text))\n",
    "\n"
   ]
  },
  {
   "cell_type": "code",
   "execution_count": null,
   "metadata": {
    "collapsed": true
   },
   "outputs": [],
   "source": []
  },
  {
   "cell_type": "code",
   "execution_count": 5,
   "metadata": {
    "collapsed": true
   },
   "outputs": [
    {
     "name": "stdout",
     "output_type": "stream",
     "text": [
      "(108519L, '50f6c610d7eed88dd8f0413f.xml', '50f6c18fd7eed88dd8f01731', '7384', '9/23/08', datetime.datetime(2008, 9, 24, 1, 13, 13), 'Talia :)', 'http://queentalia.livejournal.com/740.html', 0.0176145, 24L, 74513L, 108519L, \"My first journal hey guys, today I went to practice as usual in the morning. I thought it was ok except for the whole breathing once the whole way to the other side thing. I didnt like that part too much. After that I went to school and I was dressed u for nerd day. I didnt feel too nerdy though since I just through on whatever I could find haha. But that is our little secret. Annie was really dressed up for it though. She could really pass as a nerd. And I did tell her that so its not like I am saying that behind her back. Sarah wasnt here today I dont know why. I sent her a comment but I havent checked if she replied back yet because I am too lazy. If u are really interested in my life than you will find out tomorrow why she wasnt at school. I hope you dont mind that I am using you in my journal Sarah. I am in the habit of typing u instead of you so that is why I have all my u 's underlined because I am trying to stop. I want my journal's to be neat and nice. Ok well anyway today was fun, sort of. Ok I am lying it was acctually pretty boring. I hate when school is like that. Like today felt like Wednesday but I find out its only Tuesday and than the week feels like it is going by so slow. I have a meet this Saturday but I dont know if I am going because the coach hasnt told me and I dont really want to ask. But I do want to go to the swim meet because what is the point of being on the swim team if I cant go to any meets. Ok well this is the end of my first journal. Bye BYE! Talia\", 1507L)\n"
     ]
    }
   ],
   "source": [
    "import MySQLdb\n",
    "sql='select * from post join post_clean_content where post_clean_content.post_id = post.post_id limit 1'\n",
    "db = MySQLdb.connect(host=\"localhost\", user=\"query\", passwd=\"1234\", db=\"blogs\")\n",
    "cursor = db.cursor()\n",
    "cursor.execute(sql)\n",
    "#db.commit()\n",
    "# get the number of rows in the resultset\n",
    "numrows = int(cursor.rowcount)\n",
    "for x in range(0,numrows):\n",
    "    row = cursor.fetchone()\n",
    "    print row"
   ]
  }
 ],
 "metadata": {
  "kernelspec": {
   "display_name": "Python 2",
   "language": "python",
   "name": "python2"
  },
  "language_info": {
   "codemirror_mode": {
    "name": "ipython",
    "version": 2
   },
   "file_extension": ".py",
   "mimetype": "text/x-python",
   "name": "python",
   "nbconvert_exporter": "python",
   "pygments_lexer": "ipython2",
   "version": "2.7.6"
  }
 },
 "nbformat": 4,
 "nbformat_minor": 2
}
